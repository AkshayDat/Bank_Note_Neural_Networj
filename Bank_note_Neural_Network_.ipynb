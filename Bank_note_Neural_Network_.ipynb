{
 "cells": [
  {
   "cell_type": "markdown",
   "metadata": {},
   "source": [
    "### This Project uses a several features of Banknotes like variance, skewness, curtosis and entropy to predict the Authenticy of  banknotes weither it is Genuine or Forged.This Dataset is taken from UCI Repository.                                                                                      "
   ]
  },
  {
   "cell_type": "markdown",
   "metadata": {},
   "source": [
    "### Datset Information As per UCI Repository                                                                                                                                                        \n"
   ]
  },
  {
   "cell_type": "markdown",
   "metadata": {},
   "source": [
    "Data were extracted from images that were taken from genuine and forged banknote-like specimens. For digitization,  \n",
    "an industrial camera usually used for print inspection was used. The final images have 400x 400 pixels. Due to the object  \n",
    "lens and distance to the investigated object gray-scale pictures with a resolution of about 660 dpi were gained. \n",
    "Wavelet Transform tool were used to extract features from images,In this ml model we are considering 0 for geniune bank note \n",
    "and 1 for forged bank note."
   ]
  },
  {
   "cell_type": "code",
   "execution_count": 1,
   "metadata": {},
   "outputs": [],
   "source": [
    "#Importing Libraries\n",
    "import pandas as pd\n",
    "import numpy as np\n",
    "import seaborn as sns\n",
    "import matplotlib.pyplot as plt\n",
    "import warnings \n",
    "warnings.filterwarnings('ignore')"
   ]
  },
  {
   "cell_type": "code",
   "execution_count": 2,
   "metadata": {},
   "outputs": [],
   "source": [
    "#reading the dataset \n",
    "#This dataset is taken from  https://archive.ics.uci.edu/ml/datasets/banknote+authentication\n",
    "df_note=pd.read_csv('Banknote.csv',header=None)"
   ]
  },
  {
   "cell_type": "code",
   "execution_count": 4,
   "metadata": {},
   "outputs": [],
   "source": [
    "#Defining the columns name of the dataset as per UCI Repository\n",
    "df_note.columns=['Variance','Skewness','Curtosis','entropy of image','Class']"
   ]
  },
  {
   "cell_type": "markdown",
   "metadata": {},
   "source": [
    "#### Attribute Information\n",
    "\n",
    "1. variance of Wavelet Transformed image (continuous)\n",
    "2. skewness of Wavelet Transformed image (continuous)\n",
    "3. curtosis of Wavelet Transformed image (continuous)\n",
    "4. entropy of image (continuous)\n",
    "5. class (integer)\n",
    "\n"
   ]
  },
  {
   "cell_type": "code",
   "execution_count": 5,
   "metadata": {},
   "outputs": [
    {
     "data": {
      "text/html": [
       "<div>\n",
       "<style scoped>\n",
       "    .dataframe tbody tr th:only-of-type {\n",
       "        vertical-align: middle;\n",
       "    }\n",
       "\n",
       "    .dataframe tbody tr th {\n",
       "        vertical-align: top;\n",
       "    }\n",
       "\n",
       "    .dataframe thead th {\n",
       "        text-align: right;\n",
       "    }\n",
       "</style>\n",
       "<table border=\"1\" class=\"dataframe\">\n",
       "  <thead>\n",
       "    <tr style=\"text-align: right;\">\n",
       "      <th></th>\n",
       "      <th>Variance</th>\n",
       "      <th>Skewness</th>\n",
       "      <th>Curtosis</th>\n",
       "      <th>entropy of image</th>\n",
       "      <th>Class</th>\n",
       "    </tr>\n",
       "  </thead>\n",
       "  <tbody>\n",
       "    <tr>\n",
       "      <th>0</th>\n",
       "      <td>3.62160</td>\n",
       "      <td>8.6661</td>\n",
       "      <td>-2.8073</td>\n",
       "      <td>-0.44699</td>\n",
       "      <td>0</td>\n",
       "    </tr>\n",
       "    <tr>\n",
       "      <th>1</th>\n",
       "      <td>4.54590</td>\n",
       "      <td>8.1674</td>\n",
       "      <td>-2.4586</td>\n",
       "      <td>-1.46210</td>\n",
       "      <td>0</td>\n",
       "    </tr>\n",
       "    <tr>\n",
       "      <th>2</th>\n",
       "      <td>3.86600</td>\n",
       "      <td>-2.6383</td>\n",
       "      <td>1.9242</td>\n",
       "      <td>0.10645</td>\n",
       "      <td>0</td>\n",
       "    </tr>\n",
       "    <tr>\n",
       "      <th>3</th>\n",
       "      <td>3.45660</td>\n",
       "      <td>9.5228</td>\n",
       "      <td>-4.0112</td>\n",
       "      <td>-3.59440</td>\n",
       "      <td>0</td>\n",
       "    </tr>\n",
       "    <tr>\n",
       "      <th>4</th>\n",
       "      <td>0.32924</td>\n",
       "      <td>-4.4552</td>\n",
       "      <td>4.5718</td>\n",
       "      <td>-0.98880</td>\n",
       "      <td>0</td>\n",
       "    </tr>\n",
       "  </tbody>\n",
       "</table>\n",
       "</div>"
      ],
      "text/plain": [
       "   Variance  Skewness  Curtosis  entropy of image  Class\n",
       "0   3.62160    8.6661   -2.8073          -0.44699      0\n",
       "1   4.54590    8.1674   -2.4586          -1.46210      0\n",
       "2   3.86600   -2.6383    1.9242           0.10645      0\n",
       "3   3.45660    9.5228   -4.0112          -3.59440      0\n",
       "4   0.32924   -4.4552    4.5718          -0.98880      0"
      ]
     },
     "execution_count": 5,
     "metadata": {},
     "output_type": "execute_result"
    }
   ],
   "source": [
    "#Printing the First five rows of the dataset\n",
    "df_note.head()"
   ]
  },
  {
   "cell_type": "code",
   "execution_count": 6,
   "metadata": {},
   "outputs": [
    {
     "data": {
      "text/html": [
       "<div>\n",
       "<style scoped>\n",
       "    .dataframe tbody tr th:only-of-type {\n",
       "        vertical-align: middle;\n",
       "    }\n",
       "\n",
       "    .dataframe tbody tr th {\n",
       "        vertical-align: top;\n",
       "    }\n",
       "\n",
       "    .dataframe thead th {\n",
       "        text-align: right;\n",
       "    }\n",
       "</style>\n",
       "<table border=\"1\" class=\"dataframe\">\n",
       "  <thead>\n",
       "    <tr style=\"text-align: right;\">\n",
       "      <th></th>\n",
       "      <th>Variance</th>\n",
       "      <th>Skewness</th>\n",
       "      <th>Curtosis</th>\n",
       "      <th>entropy of image</th>\n",
       "      <th>Class</th>\n",
       "    </tr>\n",
       "  </thead>\n",
       "  <tbody>\n",
       "    <tr>\n",
       "      <th>1367</th>\n",
       "      <td>0.40614</td>\n",
       "      <td>1.34920</td>\n",
       "      <td>-1.4501</td>\n",
       "      <td>-0.55949</td>\n",
       "      <td>1</td>\n",
       "    </tr>\n",
       "    <tr>\n",
       "      <th>1368</th>\n",
       "      <td>-1.38870</td>\n",
       "      <td>-4.87730</td>\n",
       "      <td>6.4774</td>\n",
       "      <td>0.34179</td>\n",
       "      <td>1</td>\n",
       "    </tr>\n",
       "    <tr>\n",
       "      <th>1369</th>\n",
       "      <td>-3.75030</td>\n",
       "      <td>-13.45860</td>\n",
       "      <td>17.5932</td>\n",
       "      <td>-2.77710</td>\n",
       "      <td>1</td>\n",
       "    </tr>\n",
       "    <tr>\n",
       "      <th>1370</th>\n",
       "      <td>-3.56370</td>\n",
       "      <td>-8.38270</td>\n",
       "      <td>12.3930</td>\n",
       "      <td>-1.28230</td>\n",
       "      <td>1</td>\n",
       "    </tr>\n",
       "    <tr>\n",
       "      <th>1371</th>\n",
       "      <td>-2.54190</td>\n",
       "      <td>-0.65804</td>\n",
       "      <td>2.6842</td>\n",
       "      <td>1.19520</td>\n",
       "      <td>1</td>\n",
       "    </tr>\n",
       "  </tbody>\n",
       "</table>\n",
       "</div>"
      ],
      "text/plain": [
       "      Variance  Skewness  Curtosis  entropy of image  Class\n",
       "1367   0.40614   1.34920   -1.4501          -0.55949      1\n",
       "1368  -1.38870  -4.87730    6.4774           0.34179      1\n",
       "1369  -3.75030 -13.45860   17.5932          -2.77710      1\n",
       "1370  -3.56370  -8.38270   12.3930          -1.28230      1\n",
       "1371  -2.54190  -0.65804    2.6842           1.19520      1"
      ]
     },
     "execution_count": 6,
     "metadata": {},
     "output_type": "execute_result"
    }
   ],
   "source": [
    "#printing the last five rows of the dataset\n",
    "df_note.tail()"
   ]
  },
  {
   "cell_type": "code",
   "execution_count": 7,
   "metadata": {},
   "outputs": [
    {
     "name": "stdout",
     "output_type": "stream",
     "text": [
      "<class 'pandas.core.frame.DataFrame'>\n",
      "RangeIndex: 1372 entries, 0 to 1371\n",
      "Data columns (total 5 columns):\n",
      " #   Column            Non-Null Count  Dtype  \n",
      "---  ------            --------------  -----  \n",
      " 0   Variance          1372 non-null   float64\n",
      " 1   Skewness          1372 non-null   float64\n",
      " 2   Curtosis          1372 non-null   float64\n",
      " 3   entropy of image  1372 non-null   float64\n",
      " 4   Class             1372 non-null   int64  \n",
      "dtypes: float64(4), int64(1)\n",
      "memory usage: 53.7 KB\n"
     ]
    }
   ],
   "source": [
    "#getting outcomes from the dataset\n",
    "df_note.info()"
   ]
  },
  {
   "cell_type": "code",
   "execution_count": 8,
   "metadata": {},
   "outputs": [
    {
     "data": {
      "text/plain": [
       "<AxesSubplot:>"
      ]
     },
     "execution_count": 8,
     "metadata": {},
     "output_type": "execute_result"
    },
    {
     "data": {
      "image/png": "[encoded data removed]",
      "text/plain": [
       "<Figure size 432x288 with 2 Axes>"
      ]
     },
     "metadata": {
      "needs_background": "light"
     },
     "output_type": "display_data"
    }
   ],
   "source": [
    "#Using heatmap to see wether the dataset consist of any null values or not\n",
    "sns.heatmap(df_note.isnull())"
   ]
  },
  {
   "cell_type": "markdown",
   "metadata": {},
   "source": [
    "##### Univariate Analysis"
   ]
  },
  {
   "cell_type": "code",
   "execution_count": 9,
   "metadata": {},
   "outputs": [
    {
     "data": {
      "text/plain": [
       "<AxesSubplot:xlabel='Variance', ylabel='Count'>"
      ]
     },
     "execution_count": 9,
     "metadata": {},
     "output_type": "execute_result"
    },
    {
     "data": {
      "image/png": "[encoded data removed]",
      "text/plain": [
       "<Figure size 432x288 with 1 Axes>"
      ]
     },
     "metadata": {
      "needs_background": "light"
     },
     "output_type": "display_data"
    }
   ],
   "source": [
    "#Using histplot to see the distribution of data in Variance column\n",
    "sns.histplot(df_note['Variance'])"
   ]
  },
  {
   "cell_type": "code",
   "execution_count": 10,
   "metadata": {},
   "outputs": [
    {
     "data": {
      "text/plain": [
       "<AxesSubplot:xlabel='Skewness', ylabel='Count'>"
      ]
     },
     "execution_count": 10,
     "metadata": {},
     "output_type": "execute_result"
    },
    {
     "data": {
      "image/png": "[encoded data removed]",
      "text/plain": [
       "<Figure size 432x288 with 1 Axes>"
      ]
     },
     "metadata": {
      "needs_background": "light"
     },
     "output_type": "display_data"
    }
   ],
   "source": [
    "#Using histplot to see the distribution of data in Skewness column\n",
    "sns.histplot(df_note['Skewness'])"
   ]
  },
  {
   "cell_type": "code",
   "execution_count": 11,
   "metadata": {},
   "outputs": [
    {
     "data": {
      "text/plain": [
       "<AxesSubplot:xlabel='Curtosis', ylabel='Count'>"
      ]
     },
     "execution_count": 11,
     "metadata": {},
     "output_type": "execute_result"
    },
    {
     "data": {
      "image/png": "[encoded data removed]",
      "text/plain": [
       "<Figure size 432x288 with 1 Axes>"
      ]
     },
     "metadata": {
      "needs_background": "light"
     },
     "output_type": "display_data"
    }
   ],
   "source": [
    "#Using histplot to see the distribution of data in Curtosis column\n",
    "sns.histplot(df_note['Curtosis'])"
   ]
  },
  {
   "cell_type": "code",
   "execution_count": 12,
   "metadata": {},
   "outputs": [
    {
     "data": {
      "text/plain": [
       "<AxesSubplot:xlabel='entropy of image', ylabel='Count'>"
      ]
     },
     "execution_count": 12,
     "metadata": {},
     "output_type": "execute_result"
    },
    {
     "data": {
      "image/png": "[encoded data removed]",
      "text/plain": [
       "<Figure size 432x288 with 1 Axes>"
      ]
     },
     "metadata": {
      "needs_background": "light"
     },
     "output_type": "display_data"
    }
   ],
   "source": [
    "#Using histplot to see the distribution of data in Entropy of image column\n",
    "sns.histplot(df_note['entropy of image'])"
   ]
  },
  {
   "cell_type": "code",
   "execution_count": 13,
   "metadata": {},
   "outputs": [
    {
     "data": {
      "text/plain": [
       "<AxesSubplot:xlabel='Class', ylabel='count'>"
      ]
     },
     "execution_count": 13,
     "metadata": {},
     "output_type": "execute_result"
    },
    {
     "data": {
      "image/png": "[encoded data removed]",
      "text/plain": [
       "<Figure size 432x288 with 1 Axes>"
      ]
     },
     "metadata": {
      "needs_background": "light"
     },
     "output_type": "display_data"
    }
   ],
   "source": [
    "#Countplot to see the number of 0  label and 1 label in the class column\n",
    "sns.countplot(df_note['Class'])"
   ]
  },
  {
   "cell_type": "markdown",
   "metadata": {},
   "source": [
    "###### From Univariate Analysis we can clearly see that for \n",
    "1. The features such as Variance and Skewness has the Gaussian-like distribution.\n",
    "2. The feature Curtosis is left skewed whereas the feature entropy of an image is Right skewed.\n",
    "3. Our Independent feature i.e. Class is normally distributed.  "
   ]
  },
  {
   "cell_type": "code",
   "execution_count": 14,
   "metadata": {},
   "outputs": [
    {
     "data": {
      "image/png": "[encoded data removed]",
      "text/plain": [
       "<Figure size 2160x3240 with 5 Axes>"
      ]
     },
     "metadata": {
      "needs_background": "light"
     },
     "output_type": "display_data"
    }
   ],
   "source": [
    "#Plotting Boxplot to see wether there is any outliers present in the dataset or not\n",
    "collist=df_note.columns.values\n",
    "ncol=5\n",
    "nrows=10\n",
    "plt.figure(figsize=(30,45))\n",
    "for i in range (0,len(collist)):\n",
    "    plt.subplot(nrows,ncol,i+1)\n",
    "    sns.boxplot(df_note[collist[i]],color='red',orient='v')"
   ]
  },
  {
   "cell_type": "markdown",
   "metadata": {},
   "source": [
    "From The Boxplot we can see that there are outliers present in the dataset in the features having skewness in them."
   ]
  },
  {
   "cell_type": "markdown",
   "metadata": {},
   "source": [
    "##### Statistical Analysis"
   ]
  },
  {
   "cell_type": "code",
   "execution_count": 15,
   "metadata": {},
   "outputs": [
    {
     "data": {
      "text/html": [
       "<div>\n",
       "<style scoped>\n",
       "    .dataframe tbody tr th:only-of-type {\n",
       "        vertical-align: middle;\n",
       "    }\n",
       "\n",
       "    .dataframe tbody tr th {\n",
       "        vertical-align: top;\n",
       "    }\n",
       "\n",
       "    .dataframe thead th {\n",
       "        text-align: right;\n",
       "    }\n",
       "</style>\n",
       "<table border=\"1\" class=\"dataframe\">\n",
       "  <thead>\n",
       "    <tr style=\"text-align: right;\">\n",
       "      <th></th>\n",
       "      <th>Variance</th>\n",
       "      <th>Skewness</th>\n",
       "      <th>Curtosis</th>\n",
       "      <th>entropy of image</th>\n",
       "      <th>Class</th>\n",
       "    </tr>\n",
       "  </thead>\n",
       "  <tbody>\n",
       "    <tr>\n",
       "      <th>count</th>\n",
       "      <td>1372.000000</td>\n",
       "      <td>1372.000000</td>\n",
       "      <td>1372.000000</td>\n",
       "      <td>1372.000000</td>\n",
       "      <td>1372.000000</td>\n",
       "    </tr>\n",
       "    <tr>\n",
       "      <th>mean</th>\n",
       "      <td>0.433735</td>\n",
       "      <td>1.922353</td>\n",
       "      <td>1.397627</td>\n",
       "      <td>-1.191657</td>\n",
       "      <td>0.444606</td>\n",
       "    </tr>\n",
       "    <tr>\n",
       "      <th>std</th>\n",
       "      <td>2.842763</td>\n",
       "      <td>5.869047</td>\n",
       "      <td>4.310030</td>\n",
       "      <td>2.101013</td>\n",
       "      <td>0.497103</td>\n",
       "    </tr>\n",
       "    <tr>\n",
       "      <th>min</th>\n",
       "      <td>-7.042100</td>\n",
       "      <td>-13.773100</td>\n",
       "      <td>-5.286100</td>\n",
       "      <td>-8.548200</td>\n",
       "      <td>0.000000</td>\n",
       "    </tr>\n",
       "    <tr>\n",
       "      <th>25%</th>\n",
       "      <td>-1.773000</td>\n",
       "      <td>-1.708200</td>\n",
       "      <td>-1.574975</td>\n",
       "      <td>-2.413450</td>\n",
       "      <td>0.000000</td>\n",
       "    </tr>\n",
       "    <tr>\n",
       "      <th>50%</th>\n",
       "      <td>0.496180</td>\n",
       "      <td>2.319650</td>\n",
       "      <td>0.616630</td>\n",
       "      <td>-0.586650</td>\n",
       "      <td>0.000000</td>\n",
       "    </tr>\n",
       "    <tr>\n",
       "      <th>75%</th>\n",
       "      <td>2.821475</td>\n",
       "      <td>6.814625</td>\n",
       "      <td>3.179250</td>\n",
       "      <td>0.394810</td>\n",
       "      <td>1.000000</td>\n",
       "    </tr>\n",
       "    <tr>\n",
       "      <th>max</th>\n",
       "      <td>6.824800</td>\n",
       "      <td>12.951600</td>\n",
       "      <td>17.927400</td>\n",
       "      <td>2.449500</td>\n",
       "      <td>1.000000</td>\n",
       "    </tr>\n",
       "  </tbody>\n",
       "</table>\n",
       "</div>"
      ],
      "text/plain": [
       "          Variance     Skewness     Curtosis  entropy of image        Class\n",
       "count  1372.000000  1372.000000  1372.000000       1372.000000  1372.000000\n",
       "mean      0.433735     1.922353     1.397627         -1.191657     0.444606\n",
       "std       2.842763     5.869047     4.310030          2.101013     0.497103\n",
       "min      -7.042100   -13.773100    -5.286100         -8.548200     0.000000\n",
       "25%      -1.773000    -1.708200    -1.574975         -2.413450     0.000000\n",
       "50%       0.496180     2.319650     0.616630         -0.586650     0.000000\n",
       "75%       2.821475     6.814625     3.179250          0.394810     1.000000\n",
       "max       6.824800    12.951600    17.927400          2.449500     1.000000"
      ]
     },
     "execution_count": 15,
     "metadata": {},
     "output_type": "execute_result"
    }
   ],
   "source": [
    "df_note.describe()"
   ]
  },
  {
   "cell_type": "code",
   "execution_count": 16,
   "metadata": {},
   "outputs": [],
   "source": [
    "cor_relation=df_note.corr()"
   ]
  },
  {
   "cell_type": "code",
   "execution_count": 17,
   "metadata": {},
   "outputs": [
    {
     "data": {
      "text/plain": [
       "<AxesSubplot:>"
      ]
     },
     "execution_count": 17,
     "metadata": {},
     "output_type": "execute_result"
    },
    {
     "data": {
      "image/png": "[encoded data removed]",
      "text/plain": [
       "<Figure size 432x288 with 2 Axes>"
      ]
     },
     "metadata": {
      "needs_background": "light"
     },
     "output_type": "display_data"
    }
   ],
   "source": [
    "#Plotting correlation  heatmap to see how ech column is related with the dependent column\n",
    "sns.heatmap(cor_relation, annot=True)"
   ]
  },
  {
   "cell_type": "markdown",
   "metadata": {},
   "source": [
    "###### Correlation heatmap Analysis\n",
    "1. The Correlation heatmap shows that Variance is Highly negatively correlated with the dependent feature Class.\n",
    "\n",
    "2.Only Feature Curtosis is Positively correlated with the Independent feature Class else all the feature are negatively correlated with the Independent feature i,e. class."
   ]
  },
  {
   "cell_type": "markdown",
   "metadata": {},
   "source": [
    "##### Removing Outliers and skewness from the dataset"
   ]
  },
  {
   "cell_type": "code",
   "execution_count": 18,
   "metadata": {},
   "outputs": [
    {
     "data": {
      "text/plain": [
       "array([[1.12180565, 1.14945512, 0.97597007, 0.35456135, 0.89472059],\n",
       "       [1.44706568, 1.06445293, 0.89503626, 0.12876744, 0.89472059],\n",
       "       [1.20780971, 0.77735215, 0.12221838, 0.61807317, 0.89472059],\n",
       "       ...,\n",
       "       [1.47235682, 2.62164576, 3.75901744, 0.75488418, 1.11766736],\n",
       "       [1.40669251, 1.75647104, 2.552043  , 0.04315848, 1.11766736],\n",
       "       [1.04712236, 0.43982168, 0.29861555, 1.1364645 , 1.11766736]])"
      ]
     },
     "execution_count": 18,
     "metadata": {},
     "output_type": "execute_result"
    }
   ],
   "source": [
    "from scipy.stats import zscore\n",
    "z=np.abs(zscore(df_note))\n",
    "z"
   ]
  },
  {
   "cell_type": "code",
   "execution_count": 19,
   "metadata": {},
   "outputs": [],
   "source": [
    "threshold=3"
   ]
  },
  {
   "cell_type": "code",
   "execution_count": 20,
   "metadata": {},
   "outputs": [
    {
     "name": "stdout",
     "output_type": "stream",
     "text": [
      "(array([  45,   47,  194,  202,  291,  394,  465,  529,  562,  581,  740,\n",
      "        765,  820,  826,  881,  887,  942,  948,  974, 1003, 1009, 1064,\n",
      "       1070, 1125, 1131, 1142, 1186, 1192, 1203, 1218, 1247, 1253, 1264,\n",
      "       1308, 1314, 1369], dtype=int64), array([3, 3, 3, 3, 3, 3, 3, 3, 3, 3, 3, 2, 2, 2, 2, 2, 2, 2, 3, 2, 2, 2,\n",
      "       2, 2, 2, 3, 2, 2, 3, 3, 2, 2, 3, 2, 2, 2], dtype=int64))\n"
     ]
    }
   ],
   "source": [
    "#printing all the values which are greater than the threshold value\n",
    "print(np.where(z>3))"
   ]
  },
  {
   "cell_type": "code",
   "execution_count": 21,
   "metadata": {},
   "outputs": [],
   "source": [
    "df_new=df_note[(z<3).all(axis=1)]#removing the outliers"
   ]
  },
  {
   "cell_type": "code",
   "execution_count": 22,
   "metadata": {},
   "outputs": [
    {
     "name": "stdout",
     "output_type": "stream",
     "text": [
      "(1372, 5)\n",
      "(1336, 5)\n"
     ]
    }
   ],
   "source": [
    "#Cheking shape of dataframe before and after removing outliers \n",
    "print(df_note.shape)\n",
    "print(df_new.shape)"
   ]
  },
  {
   "cell_type": "code",
   "execution_count": 23,
   "metadata": {},
   "outputs": [
    {
     "data": {
      "text/plain": [
       "Variance           -0.165024\n",
       "Skewness           -0.298058\n",
       "Curtosis            0.788075\n",
       "entropy of image   -0.935068\n",
       "Class               0.250725\n",
       "dtype: float64"
      ]
     },
     "execution_count": 23,
     "metadata": {},
     "output_type": "execute_result"
    }
   ],
   "source": [
    "df_new.skew()"
   ]
  },
  {
   "cell_type": "code",
   "execution_count": 24,
   "metadata": {},
   "outputs": [],
   "source": [
    "colllist=df_new.columns.values\n",
    "for i in range(0,len(colllist)):\n",
    "    if df_new.skew().loc[colllist[i]]>0.55:\n",
    "        df_new[colllist[i]]=np.sqrt(df_new[colllist[i]])"
   ]
  },
  {
   "cell_type": "code",
   "execution_count": 25,
   "metadata": {},
   "outputs": [
    {
     "data": {
      "text/plain": [
       "Variance           -0.165024\n",
       "Skewness           -0.298058\n",
       "Curtosis            0.251490\n",
       "entropy of image   -0.935068\n",
       "Class               0.250725\n",
       "dtype: float64"
      ]
     },
     "execution_count": 25,
     "metadata": {},
     "output_type": "execute_result"
    }
   ],
   "source": [
    "df_new.skew()"
   ]
  },
  {
   "cell_type": "markdown",
   "metadata": {},
   "source": [
    "##### Splitting The data into training and testing sets"
   ]
  },
  {
   "cell_type": "code",
   "execution_count": 47,
   "metadata": {},
   "outputs": [],
   "source": [
    "x=df_note.iloc[:,:-1]"
   ]
  },
  {
   "cell_type": "code",
   "execution_count": 27,
   "metadata": {},
   "outputs": [
    {
     "data": {
      "text/html": [
       "<div>\n",
       "<style scoped>\n",
       "    .dataframe tbody tr th:only-of-type {\n",
       "        vertical-align: middle;\n",
       "    }\n",
       "\n",
       "    .dataframe tbody tr th {\n",
       "        vertical-align: top;\n",
       "    }\n",
       "\n",
       "    .dataframe thead th {\n",
       "        text-align: right;\n",
       "    }\n",
       "</style>\n",
       "<table border=\"1\" class=\"dataframe\">\n",
       "  <thead>\n",
       "    <tr style=\"text-align: right;\">\n",
       "      <th></th>\n",
       "      <th>Variance</th>\n",
       "      <th>Skewness</th>\n",
       "      <th>Curtosis</th>\n",
       "      <th>entropy of image</th>\n",
       "    </tr>\n",
       "  </thead>\n",
       "  <tbody>\n",
       "    <tr>\n",
       "      <th>0</th>\n",
       "      <td>3.62160</td>\n",
       "      <td>8.6661</td>\n",
       "      <td>NaN</td>\n",
       "      <td>-0.44699</td>\n",
       "    </tr>\n",
       "    <tr>\n",
       "      <th>1</th>\n",
       "      <td>4.54590</td>\n",
       "      <td>8.1674</td>\n",
       "      <td>NaN</td>\n",
       "      <td>-1.46210</td>\n",
       "    </tr>\n",
       "    <tr>\n",
       "      <th>2</th>\n",
       "      <td>3.86600</td>\n",
       "      <td>-2.6383</td>\n",
       "      <td>1.387155</td>\n",
       "      <td>0.10645</td>\n",
       "    </tr>\n",
       "    <tr>\n",
       "      <th>3</th>\n",
       "      <td>3.45660</td>\n",
       "      <td>9.5228</td>\n",
       "      <td>NaN</td>\n",
       "      <td>-3.59440</td>\n",
       "    </tr>\n",
       "    <tr>\n",
       "      <th>4</th>\n",
       "      <td>0.32924</td>\n",
       "      <td>-4.4552</td>\n",
       "      <td>2.138177</td>\n",
       "      <td>-0.98880</td>\n",
       "    </tr>\n",
       "  </tbody>\n",
       "</table>\n",
       "</div>"
      ],
      "text/plain": [
       "   Variance  Skewness  Curtosis  entropy of image\n",
       "0   3.62160    8.6661       NaN          -0.44699\n",
       "1   4.54590    8.1674       NaN          -1.46210\n",
       "2   3.86600   -2.6383  1.387155           0.10645\n",
       "3   3.45660    9.5228       NaN          -3.59440\n",
       "4   0.32924   -4.4552  2.138177          -0.98880"
      ]
     },
     "execution_count": 27,
     "metadata": {},
     "output_type": "execute_result"
    }
   ],
   "source": [
    "x.head()"
   ]
  },
  {
   "cell_type": "code",
   "execution_count": 48,
   "metadata": {},
   "outputs": [],
   "source": [
    "y=df_note.iloc[:,-1]"
   ]
  },
  {
   "cell_type": "code",
   "execution_count": 49,
   "metadata": {},
   "outputs": [
    {
     "data": {
      "text/plain": [
       "0    0\n",
       "1    0\n",
       "2    0\n",
       "3    0\n",
       "4    0\n",
       "Name: Class, dtype: int64"
      ]
     },
     "execution_count": 49,
     "metadata": {},
     "output_type": "execute_result"
    }
   ],
   "source": [
    "y.head()"
   ]
  },
  {
   "cell_type": "code",
   "execution_count": 50,
   "metadata": {},
   "outputs": [],
   "source": [
    "#Scaling the data in x\n",
    "from sklearn.preprocessing import StandardScaler\n",
    "sc=StandardScaler()\n",
    "df_x=sc.fit_transform(x)"
   ]
  },
  {
   "cell_type": "code",
   "execution_count": 51,
   "metadata": {},
   "outputs": [
    {
     "name": "stdout",
     "output_type": "stream",
     "text": [
      "[[ 1.12180565  1.14945512 -0.97597007  0.35456135]\n",
      " [ 1.44706568  1.06445293 -0.89503626 -0.12876744]\n",
      " [ 1.20780971 -0.77735215  0.12221838  0.61807317]\n",
      " ...\n",
      " [-1.47235682 -2.62164576  3.75901744 -0.75488418]\n",
      " [-1.40669251 -1.75647104  2.552043   -0.04315848]\n",
      " [-1.04712236 -0.43982168  0.29861555  1.1364645 ]]\n"
     ]
    }
   ],
   "source": [
    "x=df_x\n",
    "print(x)"
   ]
  },
  {
   "cell_type": "code",
   "execution_count": 52,
   "metadata": {},
   "outputs": [],
   "source": [
    "from sklearn.model_selection import train_test_split\n",
    "x_train, x_test, y_train, y_test = train_test_split(x, y, test_size=0.20)"
   ]
  },
  {
   "cell_type": "markdown",
   "metadata": {},
   "source": [
    "#### Developing a Multilayer Perceptron (MLP) model for the dataset using TensorFlow."
   ]
  },
  {
   "cell_type": "code",
   "execution_count": 63,
   "metadata": {},
   "outputs": [],
   "source": [
    "import keras \n",
    "from keras.models import Sequential\n",
    "from keras.layers import Dense\n",
    "from keras.layers import LeakyReLU,PReLU,ELU\n",
    "from keras.layers import Dropout\n",
    "from sklearn.metrics import accuracy_score"
   ]
  },
  {
   "cell_type": "code",
   "execution_count": 64,
   "metadata": {},
   "outputs": [],
   "source": [
    "#initailising the Ann\n",
    "classifier=Sequential()"
   ]
  },
  {
   "cell_type": "code",
   "execution_count": 65,
   "metadata": {},
   "outputs": [],
   "source": [
    "#Adding the input layer and the first hidden layer\n",
    "classifier.add(Dense(units = 6, kernel_initializer = 'he_uniform', activation='relu',input_dim=4))\n",
    "#Adding the Output layer\n",
    "classifier.add(Dense(units =1, kernel_initializer = 'glorot_uniform', activation='sigmoid'))"
   ]
  },
  {
   "cell_type": "code",
   "execution_count": 66,
   "metadata": {},
   "outputs": [],
   "source": [
    "#Compiling the ANN\n",
    "classifier.compile(optimizer='adam', loss='binary_crossentropy')"
   ]
  },
  {
   "cell_type": "code",
   "execution_count": 67,
   "metadata": {},
   "outputs": [
    {
     "name": "stdout",
     "output_type": "stream",
     "text": [
      "Epoch 1/100\n",
      "35/35 [==============================] - 0s 8ms/step - loss: 0.7366 - val_loss: 0.7011\n",
      "Epoch 2/100\n",
      "35/35 [==============================] - 0s 3ms/step - loss: 0.6767 - val_loss: 0.6515\n",
      "Epoch 3/100\n",
      "35/35 [==============================] - 0s 3ms/step - loss: 0.6240 - val_loss: 0.6072\n",
      "Epoch 4/100\n",
      "35/35 [==============================] - 0s 3ms/step - loss: 0.5764 - val_loss: 0.5690\n",
      "Epoch 5/100\n",
      "35/35 [==============================] - 0s 3ms/step - loss: 0.5345 - val_loss: 0.5337\n",
      "Epoch 6/100\n",
      "35/35 [==============================] - 0s 3ms/step - loss: 0.4967 - val_loss: 0.5026\n",
      "Epoch 7/100\n",
      "35/35 [==============================] - 0s 3ms/step - loss: 0.4630 - val_loss: 0.4749\n",
      "Epoch 8/100\n",
      "35/35 [==============================] - 0s 3ms/step - loss: 0.4334 - val_loss: 0.4507\n",
      "Epoch 9/100\n",
      "35/35 [==============================] - 0s 3ms/step - loss: 0.4069 - val_loss: 0.4287\n",
      "Epoch 10/100\n",
      "35/35 [==============================] - 0s 3ms/step - loss: 0.3827 - val_loss: 0.4081\n",
      "Epoch 11/100\n",
      "35/35 [==============================] - 0s 3ms/step - loss: 0.3598 - val_loss: 0.3882\n",
      "Epoch 12/100\n",
      "35/35 [==============================] - 0s 2ms/step - loss: 0.3383 - val_loss: 0.3691\n",
      "Epoch 13/100\n",
      "35/35 [==============================] - 0s 3ms/step - loss: 0.3185 - val_loss: 0.3513\n",
      "Epoch 14/100\n",
      "35/35 [==============================] - 0s 2ms/step - loss: 0.2999 - val_loss: 0.3344\n",
      "Epoch 15/100\n",
      "35/35 [==============================] - 0s 3ms/step - loss: 0.2825 - val_loss: 0.3189\n",
      "Epoch 16/100\n",
      "35/35 [==============================] - 0s 3ms/step - loss: 0.2664 - val_loss: 0.3041\n",
      "Epoch 17/100\n",
      "35/35 [==============================] - 0s 3ms/step - loss: 0.2514 - val_loss: 0.2901\n",
      "Epoch 18/100\n",
      "35/35 [==============================] - 0s 3ms/step - loss: 0.2375 - val_loss: 0.2773\n",
      "Epoch 19/100\n",
      "35/35 [==============================] - 0s 3ms/step - loss: 0.2245 - val_loss: 0.2650\n",
      "Epoch 20/100\n",
      "35/35 [==============================] - 0s 3ms/step - loss: 0.2120 - val_loss: 0.2535\n",
      "Epoch 21/100\n",
      "35/35 [==============================] - 0s 3ms/step - loss: 0.2003 - val_loss: 0.2424\n",
      "Epoch 22/100\n",
      "35/35 [==============================] - 0s 3ms/step - loss: 0.1890 - val_loss: 0.2315\n",
      "Epoch 23/100\n",
      "35/35 [==============================] - 0s 3ms/step - loss: 0.1782 - val_loss: 0.2210\n",
      "Epoch 24/100\n",
      "35/35 [==============================] - 0s 3ms/step - loss: 0.1681 - val_loss: 0.2108\n",
      "Epoch 25/100\n",
      "35/35 [==============================] - 0s 3ms/step - loss: 0.1586 - val_loss: 0.2007\n",
      "Epoch 26/100\n",
      "35/35 [==============================] - 0s 3ms/step - loss: 0.1497 - val_loss: 0.1915\n",
      "Epoch 27/100\n",
      "35/35 [==============================] - 0s 3ms/step - loss: 0.1414 - val_loss: 0.1826\n",
      "Epoch 28/100\n",
      "35/35 [==============================] - 0s 3ms/step - loss: 0.1336 - val_loss: 0.1738\n",
      "Epoch 29/100\n",
      "35/35 [==============================] - 0s 3ms/step - loss: 0.1262 - val_loss: 0.1655\n",
      "Epoch 30/100\n",
      "35/35 [==============================] - 0s 3ms/step - loss: 0.1192 - val_loss: 0.1580\n",
      "Epoch 31/100\n",
      "35/35 [==============================] - 0s 3ms/step - loss: 0.1127 - val_loss: 0.1509\n",
      "Epoch 32/100\n",
      "35/35 [==============================] - 0s 3ms/step - loss: 0.1068 - val_loss: 0.1436\n",
      "Epoch 33/100\n",
      "35/35 [==============================] - 0s 3ms/step - loss: 0.1011 - val_loss: 0.1373\n",
      "Epoch 34/100\n",
      "35/35 [==============================] - 0s 3ms/step - loss: 0.0961 - val_loss: 0.1312\n",
      "Epoch 35/100\n",
      "35/35 [==============================] - 0s 3ms/step - loss: 0.0914 - val_loss: 0.1262\n",
      "Epoch 36/100\n",
      "35/35 [==============================] - 0s 3ms/step - loss: 0.0872 - val_loss: 0.1209\n",
      "Epoch 37/100\n",
      "35/35 [==============================] - 0s 3ms/step - loss: 0.0833 - val_loss: 0.1165\n",
      "Epoch 38/100\n",
      "35/35 [==============================] - 0s 3ms/step - loss: 0.0799 - val_loss: 0.1123\n",
      "Epoch 39/100\n",
      "35/35 [==============================] - 0s 2ms/step - loss: 0.0767 - val_loss: 0.1086\n",
      "Epoch 40/100\n",
      "35/35 [==============================] - 0s 3ms/step - loss: 0.0737 - val_loss: 0.1051\n",
      "Epoch 41/100\n",
      "35/35 [==============================] - 0s 3ms/step - loss: 0.0711 - val_loss: 0.1015\n",
      "Epoch 42/100\n",
      "35/35 [==============================] - 0s 3ms/step - loss: 0.0686 - val_loss: 0.0985\n",
      "Epoch 43/100\n",
      "35/35 [==============================] - 0s 3ms/step - loss: 0.0662 - val_loss: 0.0956\n",
      "Epoch 44/100\n",
      "35/35 [==============================] - 0s 2ms/step - loss: 0.0641 - val_loss: 0.0930\n",
      "Epoch 45/100\n",
      "35/35 [==============================] - 0s 3ms/step - loss: 0.0621 - val_loss: 0.0906\n",
      "Epoch 46/100\n",
      "35/35 [==============================] - 0s 3ms/step - loss: 0.0604 - val_loss: 0.0882\n",
      "Epoch 47/100\n",
      "35/35 [==============================] - 0s 3ms/step - loss: 0.0585 - val_loss: 0.0860\n",
      "Epoch 48/100\n",
      "35/35 [==============================] - 0s 3ms/step - loss: 0.0568 - val_loss: 0.0838\n",
      "Epoch 49/100\n",
      "35/35 [==============================] - 0s 3ms/step - loss: 0.0553 - val_loss: 0.0818\n",
      "Epoch 50/100\n",
      "35/35 [==============================] - 0s 5ms/step - loss: 0.0539 - val_loss: 0.0799\n",
      "Epoch 51/100\n",
      "35/35 [==============================] - 0s 3ms/step - loss: 0.0525 - val_loss: 0.0782\n",
      "Epoch 52/100\n",
      "35/35 [==============================] - 0s 5ms/step - loss: 0.0512 - val_loss: 0.0764\n",
      "Epoch 53/100\n",
      "35/35 [==============================] - 0s 3ms/step - loss: 0.0501 - val_loss: 0.0749\n",
      "Epoch 54/100\n",
      "35/35 [==============================] - 0s 3ms/step - loss: 0.0489 - val_loss: 0.0731\n",
      "Epoch 55/100\n",
      "35/35 [==============================] - 0s 3ms/step - loss: 0.0478 - val_loss: 0.0716\n",
      "Epoch 56/100\n",
      "35/35 [==============================] - 0s 3ms/step - loss: 0.0467 - val_loss: 0.0703\n",
      "Epoch 57/100\n",
      "35/35 [==============================] - 0s 3ms/step - loss: 0.0457 - val_loss: 0.0689\n",
      "Epoch 58/100\n",
      "35/35 [==============================] - 0s 3ms/step - loss: 0.0448 - val_loss: 0.0675\n",
      "Epoch 59/100\n",
      "35/35 [==============================] - 0s 3ms/step - loss: 0.0438 - val_loss: 0.0663\n",
      "Epoch 60/100\n",
      "35/35 [==============================] - 0s 3ms/step - loss: 0.0430 - val_loss: 0.0651\n",
      "Epoch 61/100\n",
      "35/35 [==============================] - 0s 3ms/step - loss: 0.0421 - val_loss: 0.0639\n",
      "Epoch 62/100\n",
      "35/35 [==============================] - 0s 3ms/step - loss: 0.0413 - val_loss: 0.0629\n",
      "Epoch 63/100\n",
      "35/35 [==============================] - 0s 3ms/step - loss: 0.0406 - val_loss: 0.0619\n",
      "Epoch 64/100\n",
      "35/35 [==============================] - 0s 3ms/step - loss: 0.0398 - val_loss: 0.0607\n",
      "Epoch 65/100\n",
      "35/35 [==============================] - 0s 3ms/step - loss: 0.0392 - val_loss: 0.0597\n",
      "Epoch 66/100\n",
      "35/35 [==============================] - 0s 3ms/step - loss: 0.0384 - val_loss: 0.0588\n",
      "Epoch 67/100\n",
      "35/35 [==============================] - 0s 3ms/step - loss: 0.0378 - val_loss: 0.0578\n",
      "Epoch 68/100\n",
      "35/35 [==============================] - 0s 3ms/step - loss: 0.0371 - val_loss: 0.0569\n",
      "Epoch 69/100\n",
      "35/35 [==============================] - 0s 3ms/step - loss: 0.0365 - val_loss: 0.0559\n",
      "Epoch 70/100\n",
      "35/35 [==============================] - 0s 3ms/step - loss: 0.0359 - val_loss: 0.0552\n",
      "Epoch 71/100\n",
      "35/35 [==============================] - 0s 3ms/step - loss: 0.0353 - val_loss: 0.0543\n",
      "Epoch 72/100\n",
      "35/35 [==============================] - 0s 3ms/step - loss: 0.0349 - val_loss: 0.0533\n",
      "Epoch 73/100\n",
      "35/35 [==============================] - 0s 3ms/step - loss: 0.0342 - val_loss: 0.0527\n",
      "Epoch 74/100\n",
      "35/35 [==============================] - 0s 2ms/step - loss: 0.0337 - val_loss: 0.0519\n",
      "Epoch 75/100\n",
      "35/35 [==============================] - 0s 3ms/step - loss: 0.0332 - val_loss: 0.0511\n",
      "Epoch 76/100\n",
      "35/35 [==============================] - 0s 3ms/step - loss: 0.0327 - val_loss: 0.0503\n",
      "Epoch 77/100\n",
      "35/35 [==============================] - 0s 3ms/step - loss: 0.0322 - val_loss: 0.0497\n",
      "Epoch 78/100\n",
      "35/35 [==============================] - 0s 3ms/step - loss: 0.0317 - val_loss: 0.0490\n",
      "Epoch 79/100\n",
      "35/35 [==============================] - 0s 3ms/step - loss: 0.0312 - val_loss: 0.0484\n",
      "Epoch 80/100\n",
      "35/35 [==============================] - 0s 3ms/step - loss: 0.0308 - val_loss: 0.0478\n",
      "Epoch 81/100\n",
      "35/35 [==============================] - 0s 3ms/step - loss: 0.0304 - val_loss: 0.0469\n",
      "Epoch 82/100\n",
      "35/35 [==============================] - 0s 3ms/step - loss: 0.0299 - val_loss: 0.0462\n",
      "Epoch 83/100\n",
      "35/35 [==============================] - 0s 2ms/step - loss: 0.0295 - val_loss: 0.0457\n",
      "Epoch 84/100\n",
      "35/35 [==============================] - 0s 3ms/step - loss: 0.0291 - val_loss: 0.0449\n",
      "Epoch 85/100\n",
      "35/35 [==============================] - 0s 3ms/step - loss: 0.0286 - val_loss: 0.0442\n",
      "Epoch 86/100\n",
      "35/35 [==============================] - 0s 3ms/step - loss: 0.0282 - val_loss: 0.0436\n",
      "Epoch 87/100\n",
      "35/35 [==============================] - 0s 3ms/step - loss: 0.0278 - val_loss: 0.0428\n",
      "Epoch 88/100\n",
      "35/35 [==============================] - 0s 3ms/step - loss: 0.0273 - val_loss: 0.0423\n",
      "Epoch 89/100\n",
      "35/35 [==============================] - 0s 3ms/step - loss: 0.0269 - val_loss: 0.0416\n",
      "Epoch 90/100\n",
      "35/35 [==============================] - 0s 3ms/step - loss: 0.0265 - val_loss: 0.0412\n",
      "Epoch 91/100\n",
      "35/35 [==============================] - 0s 3ms/step - loss: 0.0262 - val_loss: 0.0406\n",
      "Epoch 92/100\n",
      "35/35 [==============================] - 0s 3ms/step - loss: 0.0258 - val_loss: 0.0402\n",
      "Epoch 93/100\n",
      "35/35 [==============================] - 0s 3ms/step - loss: 0.0255 - val_loss: 0.0397\n",
      "Epoch 94/100\n",
      "35/35 [==============================] - 0s 3ms/step - loss: 0.0253 - val_loss: 0.0393\n",
      "Epoch 95/100\n",
      "35/35 [==============================] - 0s 3ms/step - loss: 0.0250 - val_loss: 0.0389\n",
      "Epoch 96/100\n",
      "35/35 [==============================] - 0s 3ms/step - loss: 0.0247 - val_loss: 0.0386\n",
      "Epoch 97/100\n",
      "35/35 [==============================] - 0s 3ms/step - loss: 0.0244 - val_loss: 0.0382\n",
      "Epoch 98/100\n",
      "35/35 [==============================] - 0s 3ms/step - loss: 0.0241 - val_loss: 0.0376\n",
      "Epoch 99/100\n",
      "35/35 [==============================] - 0s 3ms/step - loss: 0.0238 - val_loss: 0.0373\n",
      "Epoch 100/100\n",
      "35/35 [==============================] - 0s 3ms/step - loss: 0.0236 - val_loss: 0.0370\n"
     ]
    }
   ],
   "source": [
    "#fitting the model\n",
    "model_history=classifier.fit(x_train,y_train,batch_size=32,epochs=100,validation_data=(x_test,y_test))"
   ]
  },
  {
   "cell_type": "code",
   "execution_count": 114,
   "metadata": {},
   "outputs": [
    {
     "name": "stdout",
     "output_type": "stream",
     "text": [
      "Accuracy: 1.000\n"
     ]
    }
   ],
   "source": [
    "# predicting the model performance with test dataset\n",
    "y_= classifier.predict_classes(x_test)\n",
    "#evaluate predictions\n",
    "score = accuracy_score(y_test,y_)\n",
    "print('Accuracy: %.3f' % score)"
   ]
  },
  {
   "cell_type": "markdown",
   "metadata": {},
   "source": [
    "Here we have reached a accuracy of Approximately 99%"
   ]
  },
  {
   "cell_type": "code",
   "execution_count": 122,
   "metadata": {},
   "outputs": [
    {
     "data": {
      "image/png": "[encoded data removed]",
      "text/plain": [
       "<Figure size 432x288 with 1 Axes>"
      ]
     },
     "metadata": {
      "needs_background": "light"
     },
     "output_type": "display_data"
    }
   ],
   "source": [
    "# plot learning curves with respect to Epochs\n",
    "plt.title('Learning Curves W.R.T Epochs')\n",
    "plt.xlabel('Epochs')\n",
    "plt.ylabel('Cross Entropy')\n",
    "plt.plot(model_history.history['loss'], label='train')\n",
    "plt.plot(model_history.history['val_loss'], label='val')\n",
    "plt.legend()\n",
    "plt.show()"
   ]
  },
  {
   "cell_type": "markdown",
   "metadata": {},
   "source": [
    "#### Using the k-fold cross-validation procedure as it can provide a more reliable estimate of MLP performance, although it can be very slow."
   ]
  },
  {
   "cell_type": "code",
   "execution_count": 72,
   "metadata": {},
   "outputs": [
    {
     "name": "stdout",
     "output_type": "stream",
     "text": [
      ">1.000\n",
      ">0.993\n",
      ">1.000\n",
      ">0.985\n",
      ">0.978\n",
      ">1.000\n",
      ">0.993\n",
      ">1.000\n",
      ">0.985\n",
      ">0.978\n",
      "Mean Accuracy: 0.991 (0.009)\n"
     ]
    }
   ],
   "source": [
    "from sklearn.model_selection import StratifiedKFold\n",
    "from numpy import mean\n",
    "from numpy import std\n",
    "kfold = StratifiedKFold(10)\n",
    "scores = list()\n",
    "for train_ix, test_ix in kfold.split(x, y):\n",
    "# splitting the data\n",
    "    x_train, x_test, y_train, y_test =x[train_ix], x[test_ix], y[train_ix], y[test_ix]\n",
    "# determining the number of input features\n",
    "    n_features = x.shape[1]\n",
    "# Initializin the Ann Model\n",
    "    Classifier = Sequential()\n",
    "    Classifier.add(Dense(10, activation='relu', kernel_initializer='he_normal', input_shape=(n_features,)))\n",
    "    Classifier.add(Dense(1, activation='sigmoid'))\n",
    "# compiling the model\n",
    "    Classifier.compile(optimizer='adam', loss='binary_crossentropy')\n",
    "# fitting the model\n",
    "    model.fit(x_train, y_train, epochs=50, batch_size=32, verbose=0)\n",
    "# predicting the model performance with test set\n",
    "    yhat = model.predict_classes(x_test)\n",
    "# evaluating predictions\n",
    "    score = accuracy_score(y_test, yhat)\n",
    "    print('>%.3f' % score)\n",
    "    scores.append(score)\n",
    "# summarrizing all scores and finding the mean \n",
    "print('Mean Accuracy: %.3f (%.3f)' % (mean(scores), std(scores)))"
   ]
  },
  {
   "cell_type": "markdown",
   "metadata": {},
   "source": [
    "Using The cross Validation we have reached the accuracy of approximately 1 "
   ]
  },
  {
   "cell_type": "markdown",
   "metadata": {},
   "source": [
    "###### Final Model as there is not much difference Between the two ,in this case, we will use the model with dropout and a small batch size as our final model."
   ]
  },
  {
   "cell_type": "code",
   "execution_count": 73,
   "metadata": {},
   "outputs": [],
   "source": [
    "#initailising the Ann\n",
    "classifier=Sequential()\n",
    "#Adding the input layer and the first hidden layer\n",
    "classifier.add(Dense(units = 6, kernel_initializer = 'he_uniform', activation='relu',input_dim=4))\n",
    "#Adding the Output layer\n",
    "classifier.add(Dense(units =1, kernel_initializer = 'glorot_uniform', activation='sigmoid'))\n",
    "#Compiling the ANN\n",
    "classifier.compile(optimizer='adam', loss='binary_crossentropy',metrics=['accuracy'])\n"
   ]
  },
  {
   "cell_type": "code",
   "execution_count": 96,
   "metadata": {},
   "outputs": [
    {
     "name": "stdout",
     "output_type": "stream",
     "text": [
      "Epoch 1/100\n",
      "92/92 [==============================] - 0s 3ms/step - loss: 7.9132e-06 - accuracy: 1.0000 - val_loss: 5.5749e-05 - val_accuracy: 1.0000\n",
      "Epoch 2/100\n",
      "92/92 [==============================] - 0s 2ms/step - loss: 7.7434e-06 - accuracy: 1.0000 - val_loss: 5.5476e-05 - val_accuracy: 1.0000\n",
      "Epoch 3/100\n",
      "92/92 [==============================] - 0s 2ms/step - loss: 7.6172e-06 - accuracy: 1.0000 - val_loss: 5.7130e-05 - val_accuracy: 1.0000\n",
      "Epoch 4/100\n",
      "92/92 [==============================] - 0s 3ms/step - loss: 7.4329e-06 - accuracy: 1.0000 - val_loss: 5.4951e-05 - val_accuracy: 1.0000\n",
      "Epoch 5/100\n",
      "92/92 [==============================] - 0s 3ms/step - loss: 7.2508e-06 - accuracy: 1.0000 - val_loss: 5.7917e-05 - val_accuracy: 1.0000\n",
      "Epoch 6/100\n",
      "92/92 [==============================] - 0s 3ms/step - loss: 6.9765e-06 - accuracy: 1.0000 - val_loss: 5.2314e-05 - val_accuracy: 1.0000\n",
      "Epoch 7/100\n",
      "92/92 [==============================] - 0s 2ms/step - loss: 6.8198e-06 - accuracy: 1.0000 - val_loss: 5.1571e-05 - val_accuracy: 1.0000\n",
      "Epoch 8/100\n",
      "92/92 [==============================] - 0s 3ms/step - loss: 6.6707e-06 - accuracy: 1.0000 - val_loss: 4.7178e-05 - val_accuracy: 1.0000\n",
      "Epoch 9/100\n",
      "92/92 [==============================] - 0s 3ms/step - loss: 6.3216e-06 - accuracy: 1.0000 - val_loss: 4.6547e-05 - val_accuracy: 1.0000\n",
      "Epoch 10/100\n",
      "92/92 [==============================] - 0s 3ms/step - loss: 6.3260e-06 - accuracy: 1.0000 - val_loss: 4.4868e-05 - val_accuracy: 1.0000\n",
      "Epoch 11/100\n",
      "92/92 [==============================] - 0s 2ms/step - loss: 6.4282e-06 - accuracy: 1.0000 - val_loss: 4.4301e-05 - val_accuracy: 1.0000\n",
      "Epoch 12/100\n",
      "92/92 [==============================] - 0s 3ms/step - loss: 5.8344e-06 - accuracy: 1.0000 - val_loss: 4.6273e-05 - val_accuracy: 1.0000\n",
      "Epoch 13/100\n",
      "92/92 [==============================] - 0s 3ms/step - loss: 5.8084e-06 - accuracy: 1.0000 - val_loss: 4.8567e-05 - val_accuracy: 1.0000\n",
      "Epoch 14/100\n",
      "92/92 [==============================] - 0s 3ms/step - loss: 5.6722e-06 - accuracy: 1.0000 - val_loss: 4.3516e-05 - val_accuracy: 1.0000\n",
      "Epoch 15/100\n",
      "92/92 [==============================] - 0s 3ms/step - loss: 5.6607e-06 - accuracy: 1.0000 - val_loss: 4.3276e-05 - val_accuracy: 1.0000\n",
      "Epoch 16/100\n",
      "92/92 [==============================] - 0s 3ms/step - loss: 5.3594e-06 - accuracy: 1.0000 - val_loss: 4.3087e-05 - val_accuracy: 1.0000\n",
      "Epoch 17/100\n",
      "92/92 [==============================] - 0s 2ms/step - loss: 5.2777e-06 - accuracy: 1.0000 - val_loss: 4.4906e-05 - val_accuracy: 1.0000\n",
      "Epoch 18/100\n",
      "92/92 [==============================] - 0s 3ms/step - loss: 5.0797e-06 - accuracy: 1.0000 - val_loss: 4.2163e-05 - val_accuracy: 1.0000\n",
      "Epoch 19/100\n",
      "92/92 [==============================] - 0s 2ms/step - loss: 5.1032e-06 - accuracy: 1.0000 - val_loss: 4.0328e-05 - val_accuracy: 1.0000\n",
      "Epoch 20/100\n",
      "92/92 [==============================] - 0s 3ms/step - loss: 4.9313e-06 - accuracy: 1.0000 - val_loss: 4.1750e-05 - val_accuracy: 1.0000\n",
      "Epoch 21/100\n",
      "92/92 [==============================] - 0s 2ms/step - loss: 4.8829e-06 - accuracy: 1.0000 - val_loss: 4.0357e-05 - val_accuracy: 1.0000\n",
      "Epoch 22/100\n",
      "92/92 [==============================] - 0s 3ms/step - loss: 4.6750e-06 - accuracy: 1.0000 - val_loss: 3.7403e-05 - val_accuracy: 1.0000\n",
      "Epoch 23/100\n",
      "92/92 [==============================] - 0s 2ms/step - loss: 4.6240e-06 - accuracy: 1.0000 - val_loss: 3.7725e-05 - val_accuracy: 1.0000\n",
      "Epoch 24/100\n",
      "92/92 [==============================] - 0s 3ms/step - loss: 4.5174e-06 - accuracy: 1.0000 - val_loss: 3.7286e-05 - val_accuracy: 1.0000\n",
      "Epoch 25/100\n",
      "92/92 [==============================] - 0s 3ms/step - loss: 4.4618e-06 - accuracy: 1.0000 - val_loss: 3.6433e-05 - val_accuracy: 1.0000\n",
      "Epoch 26/100\n",
      "92/92 [==============================] - 0s 2ms/step - loss: 4.3821e-06 - accuracy: 1.0000 - val_loss: 3.5064e-05 - val_accuracy: 1.0000\n",
      "Epoch 27/100\n",
      "92/92 [==============================] - 0s 3ms/step - loss: 4.2359e-06 - accuracy: 1.0000 - val_loss: 3.5511e-05 - val_accuracy: 1.0000\n",
      "Epoch 28/100\n",
      "92/92 [==============================] - 0s 3ms/step - loss: 4.0822e-06 - accuracy: 1.0000 - val_loss: 3.5397e-05 - val_accuracy: 1.0000\n",
      "Epoch 29/100\n",
      "92/92 [==============================] - 0s 4ms/step - loss: 4.1340e-06 - accuracy: 1.0000 - val_loss: 3.3582e-05 - val_accuracy: 1.0000\n",
      "Epoch 30/100\n",
      "92/92 [==============================] - 0s 3ms/step - loss: 3.9742e-06 - accuracy: 1.0000 - val_loss: 3.2259e-05 - val_accuracy: 1.0000\n",
      "Epoch 31/100\n",
      "92/92 [==============================] - 0s 4ms/step - loss: 3.8100e-06 - accuracy: 1.0000 - val_loss: 3.4805e-05 - val_accuracy: 1.0000\n",
      "Epoch 32/100\n",
      "92/92 [==============================] - 0s 2ms/step - loss: 3.7959e-06 - accuracy: 1.0000 - val_loss: 3.1273e-05 - val_accuracy: 1.0000\n",
      "Epoch 33/100\n",
      "92/92 [==============================] - 0s 3ms/step - loss: 3.6886e-06 - accuracy: 1.0000 - val_loss: 3.3833e-05 - val_accuracy: 1.0000\n",
      "Epoch 34/100\n",
      "92/92 [==============================] - 0s 3ms/step - loss: 3.6350e-06 - accuracy: 1.0000 - val_loss: 3.4280e-05 - val_accuracy: 1.0000\n",
      "Epoch 35/100\n",
      "92/92 [==============================] - 0s 3ms/step - loss: 3.5824e-06 - accuracy: 1.0000 - val_loss: 3.3133e-05 - val_accuracy: 1.0000\n",
      "Epoch 36/100\n",
      "92/92 [==============================] - 0s 3ms/step - loss: 3.5032e-06 - accuracy: 1.0000 - val_loss: 3.4856e-05 - val_accuracy: 1.0000\n",
      "Epoch 37/100\n",
      "92/92 [==============================] - 0s 2ms/step - loss: 3.4345e-06 - accuracy: 1.0000 - val_loss: 2.9390e-05 - val_accuracy: 1.0000\n",
      "Epoch 38/100\n",
      "92/92 [==============================] - 0s 2ms/step - loss: 3.3686e-06 - accuracy: 1.0000 - val_loss: 2.9425e-05 - val_accuracy: 1.0000\n",
      "Epoch 39/100\n",
      "92/92 [==============================] - 0s 2ms/step - loss: 3.2873e-06 - accuracy: 1.0000 - val_loss: 3.0364e-05 - val_accuracy: 1.0000\n",
      "Epoch 40/100\n",
      "92/92 [==============================] - 0s 3ms/step - loss: 3.1308e-06 - accuracy: 1.0000 - val_loss: 2.8326e-05 - val_accuracy: 1.0000\n",
      "Epoch 41/100\n",
      "92/92 [==============================] - 0s 2ms/step - loss: 3.0448e-06 - accuracy: 1.0000 - val_loss: 3.0655e-05 - val_accuracy: 1.0000\n",
      "Epoch 42/100\n",
      "92/92 [==============================] - 0s 2ms/step - loss: 3.0883e-06 - accuracy: 1.0000 - val_loss: 3.1119e-05 - val_accuracy: 1.0000\n",
      "Epoch 43/100\n",
      "92/92 [==============================] - 0s 2ms/step - loss: 2.9911e-06 - accuracy: 1.0000 - val_loss: 2.8381e-05 - val_accuracy: 1.0000\n",
      "Epoch 44/100\n",
      "92/92 [==============================] - 0s 3ms/step - loss: 2.9126e-06 - accuracy: 1.0000 - val_loss: 2.6791e-05 - val_accuracy: 1.0000\n",
      "Epoch 45/100\n",
      "92/92 [==============================] - 0s 3ms/step - loss: 2.9271e-06 - accuracy: 1.0000 - val_loss: 2.8867e-05 - val_accuracy: 1.0000\n",
      "Epoch 46/100\n",
      "92/92 [==============================] - 0s 3ms/step - loss: 2.7712e-06 - accuracy: 1.0000 - val_loss: 2.8263e-05 - val_accuracy: 1.0000\n",
      "Epoch 47/100\n",
      "92/92 [==============================] - 0s 2ms/step - loss: 2.7897e-06 - accuracy: 1.0000 - val_loss: 2.7214e-05 - val_accuracy: 1.0000\n",
      "Epoch 48/100\n",
      "92/92 [==============================] - 0s 3ms/step - loss: 2.7254e-06 - accuracy: 1.0000 - val_loss: 2.4699e-05 - val_accuracy: 1.0000\n",
      "Epoch 49/100\n",
      "92/92 [==============================] - 0s 3ms/step - loss: 2.6342e-06 - accuracy: 1.0000 - val_loss: 2.4353e-05 - val_accuracy: 1.0000\n",
      "Epoch 50/100\n",
      "92/92 [==============================] - 0s 3ms/step - loss: 2.5691e-06 - accuracy: 1.0000 - val_loss: 2.5094e-05 - val_accuracy: 1.0000\n",
      "Epoch 51/100\n",
      "92/92 [==============================] - 0s 3ms/step - loss: 2.5180e-06 - accuracy: 1.0000 - val_loss: 2.4331e-05 - val_accuracy: 1.0000\n",
      "Epoch 52/100\n",
      "92/92 [==============================] - 0s 3ms/step - loss: 2.4271e-06 - accuracy: 1.0000 - val_loss: 2.4417e-05 - val_accuracy: 1.0000\n",
      "Epoch 53/100\n",
      "92/92 [==============================] - 0s 2ms/step - loss: 2.4385e-06 - accuracy: 1.0000 - val_loss: 2.3343e-05 - val_accuracy: 1.0000\n",
      "Epoch 54/100\n",
      "92/92 [==============================] - 0s 3ms/step - loss: 2.3368e-06 - accuracy: 1.0000 - val_loss: 2.4746e-05 - val_accuracy: 1.0000\n",
      "Epoch 55/100\n",
      "92/92 [==============================] - 0s 3ms/step - loss: 2.3552e-06 - accuracy: 1.0000 - val_loss: 2.6490e-05 - val_accuracy: 1.0000\n",
      "Epoch 56/100\n",
      "92/92 [==============================] - 0s 3ms/step - loss: 2.2367e-06 - accuracy: 1.0000 - val_loss: 2.2579e-05 - val_accuracy: 1.0000\n",
      "Epoch 57/100\n",
      "92/92 [==============================] - 0s 2ms/step - loss: 2.2357e-06 - accuracy: 1.0000 - val_loss: 2.1546e-05 - val_accuracy: 1.0000\n",
      "Epoch 58/100\n",
      "92/92 [==============================] - 0s 3ms/step - loss: 2.1502e-06 - accuracy: 1.0000 - val_loss: 2.2774e-05 - val_accuracy: 1.0000\n",
      "Epoch 59/100\n",
      "92/92 [==============================] - 0s 3ms/step - loss: 2.1847e-06 - accuracy: 1.0000 - val_loss: 2.3821e-05 - val_accuracy: 1.0000\n",
      "Epoch 60/100\n",
      "92/92 [==============================] - 0s 3ms/step - loss: 2.2260e-06 - accuracy: 1.0000 - val_loss: 2.2783e-05 - val_accuracy: 1.0000\n",
      "Epoch 61/100\n",
      "92/92 [==============================] - 0s 3ms/step - loss: 2.0694e-06 - accuracy: 1.0000 - val_loss: 2.2094e-05 - val_accuracy: 1.0000\n",
      "Epoch 62/100\n",
      "92/92 [==============================] - 0s 2ms/step - loss: 1.9713e-06 - accuracy: 1.0000 - val_loss: 2.2548e-05 - val_accuracy: 1.0000\n",
      "Epoch 63/100\n",
      "92/92 [==============================] - 0s 3ms/step - loss: 1.9472e-06 - accuracy: 1.0000 - val_loss: 2.3222e-05 - val_accuracy: 1.0000\n",
      "Epoch 64/100\n",
      "92/92 [==============================] - 0s 3ms/step - loss: 1.9098e-06 - accuracy: 1.0000 - val_loss: 2.1042e-05 - val_accuracy: 1.0000\n",
      "Epoch 65/100\n",
      "92/92 [==============================] - 0s 2ms/step - loss: 1.9055e-06 - accuracy: 1.0000 - val_loss: 2.0014e-05 - val_accuracy: 1.0000\n",
      "Epoch 66/100\n",
      "92/92 [==============================] - 0s 3ms/step - loss: 1.8414e-06 - accuracy: 1.0000 - val_loss: 2.0675e-05 - val_accuracy: 1.0000\n",
      "Epoch 67/100\n",
      "92/92 [==============================] - 0s 3ms/step - loss: 1.7784e-06 - accuracy: 1.0000 - val_loss: 1.9285e-05 - val_accuracy: 1.0000\n",
      "Epoch 68/100\n",
      "92/92 [==============================] - 0s 2ms/step - loss: 1.7828e-06 - accuracy: 1.0000 - val_loss: 1.9078e-05 - val_accuracy: 1.0000\n",
      "Epoch 69/100\n",
      "92/92 [==============================] - 0s 3ms/step - loss: 1.7010e-06 - accuracy: 1.0000 - val_loss: 1.9539e-05 - val_accuracy: 1.0000\n",
      "Epoch 70/100\n",
      "92/92 [==============================] - 0s 2ms/step - loss: 1.6367e-06 - accuracy: 1.0000 - val_loss: 2.1600e-05 - val_accuracy: 1.0000\n",
      "Epoch 71/100\n",
      "92/92 [==============================] - 0s 2ms/step - loss: 1.6452e-06 - accuracy: 1.0000 - val_loss: 1.9187e-05 - val_accuracy: 1.0000\n",
      "Epoch 72/100\n",
      "92/92 [==============================] - 0s 2ms/step - loss: 1.6722e-06 - accuracy: 1.0000 - val_loss: 2.0557e-05 - val_accuracy: 1.0000\n",
      "Epoch 73/100\n",
      "92/92 [==============================] - 0s 3ms/step - loss: 1.5906e-06 - accuracy: 1.0000 - val_loss: 1.8948e-05 - val_accuracy: 1.0000\n",
      "Epoch 74/100\n",
      "92/92 [==============================] - 0s 2ms/step - loss: 1.5379e-06 - accuracy: 1.0000 - val_loss: 1.8622e-05 - val_accuracy: 1.0000\n",
      "Epoch 75/100\n",
      "92/92 [==============================] - 0s 2ms/step - loss: 1.5538e-06 - accuracy: 1.0000 - val_loss: 1.7948e-05 - val_accuracy: 1.0000\n",
      "Epoch 76/100\n",
      "92/92 [==============================] - 0s 2ms/step - loss: 1.4658e-06 - accuracy: 1.0000 - val_loss: 1.7463e-05 - val_accuracy: 1.0000\n",
      "Epoch 77/100\n",
      "92/92 [==============================] - 0s 2ms/step - loss: 1.4557e-06 - accuracy: 1.0000 - val_loss: 1.7782e-05 - val_accuracy: 1.0000\n",
      "Epoch 78/100\n",
      "92/92 [==============================] - 0s 3ms/step - loss: 1.4399e-06 - accuracy: 1.0000 - val_loss: 1.8650e-05 - val_accuracy: 1.0000\n",
      "Epoch 79/100\n",
      "92/92 [==============================] - 0s 3ms/step - loss: 1.4111e-06 - accuracy: 1.0000 - val_loss: 1.6292e-05 - val_accuracy: 1.0000\n",
      "Epoch 80/100\n",
      "92/92 [==============================] - 0s 3ms/step - loss: 1.3551e-06 - accuracy: 1.0000 - val_loss: 1.7485e-05 - val_accuracy: 1.0000\n",
      "Epoch 81/100\n",
      "92/92 [==============================] - 0s 3ms/step - loss: 1.3630e-06 - accuracy: 1.0000 - val_loss: 1.6219e-05 - val_accuracy: 1.0000\n",
      "Epoch 82/100\n",
      "92/92 [==============================] - 0s 3ms/step - loss: 1.3304e-06 - accuracy: 1.0000 - val_loss: 1.6617e-05 - val_accuracy: 1.0000\n",
      "Epoch 83/100\n",
      "92/92 [==============================] - 0s 2ms/step - loss: 1.3038e-06 - accuracy: 1.0000 - val_loss: 1.6837e-05 - val_accuracy: 1.0000\n",
      "Epoch 84/100\n",
      "92/92 [==============================] - 0s 2ms/step - loss: 1.2534e-06 - accuracy: 1.0000 - val_loss: 1.6057e-05 - val_accuracy: 1.0000\n",
      "Epoch 85/100\n",
      "92/92 [==============================] - 0s 2ms/step - loss: 1.1860e-06 - accuracy: 1.0000 - val_loss: 1.5951e-05 - val_accuracy: 1.0000\n",
      "Epoch 86/100\n",
      "92/92 [==============================] - 0s 2ms/step - loss: 1.2236e-06 - accuracy: 1.0000 - val_loss: 1.5956e-05 - val_accuracy: 1.0000\n",
      "Epoch 87/100\n",
      "92/92 [==============================] - 0s 3ms/step - loss: 1.1636e-06 - accuracy: 1.0000 - val_loss: 1.4872e-05 - val_accuracy: 1.0000\n",
      "Epoch 88/100\n",
      "92/92 [==============================] - 0s 2ms/step - loss: 1.1519e-06 - accuracy: 1.0000 - val_loss: 1.4325e-05 - val_accuracy: 1.0000\n",
      "Epoch 89/100\n",
      "92/92 [==============================] - 0s 2ms/step - loss: 1.1444e-06 - accuracy: 1.0000 - val_loss: 1.5202e-05 - val_accuracy: 1.0000\n",
      "Epoch 90/100\n",
      "92/92 [==============================] - 0s 2ms/step - loss: 1.0979e-06 - accuracy: 1.0000 - val_loss: 1.4316e-05 - val_accuracy: 1.0000\n",
      "Epoch 91/100\n",
      "92/92 [==============================] - 0s 3ms/step - loss: 1.0913e-06 - accuracy: 1.0000 - val_loss: 1.4149e-05 - val_accuracy: 1.0000\n",
      "Epoch 92/100\n",
      "92/92 [==============================] - 0s 2ms/step - loss: 1.0703e-06 - accuracy: 1.0000 - val_loss: 1.4104e-05 - val_accuracy: 1.0000\n",
      "Epoch 93/100\n",
      "92/92 [==============================] - 0s 2ms/step - loss: 1.0140e-06 - accuracy: 1.0000 - val_loss: 1.4421e-05 - val_accuracy: 1.0000\n",
      "Epoch 94/100\n",
      "92/92 [==============================] - 0s 3ms/step - loss: 1.0324e-06 - accuracy: 1.0000 - val_loss: 1.4557e-05 - val_accuracy: 1.0000\n",
      "Epoch 95/100\n",
      "92/92 [==============================] - 0s 2ms/step - loss: 9.7963e-07 - accuracy: 1.0000 - val_loss: 1.3425e-05 - val_accuracy: 1.0000\n",
      "Epoch 96/100\n",
      "92/92 [==============================] - 0s 2ms/step - loss: 9.7750e-07 - accuracy: 1.0000 - val_loss: 1.4091e-05 - val_accuracy: 1.0000\n",
      "Epoch 97/100\n",
      "92/92 [==============================] - 0s 3ms/step - loss: 9.5242e-07 - accuracy: 1.0000 - val_loss: 1.3019e-05 - val_accuracy: 1.0000\n",
      "Epoch 98/100\n",
      "92/92 [==============================] - 0s 3ms/step - loss: 9.4072e-07 - accuracy: 1.0000 - val_loss: 1.2924e-05 - val_accuracy: 1.0000\n",
      "Epoch 99/100\n",
      "92/92 [==============================] - 0s 3ms/step - loss: 9.2368e-07 - accuracy: 1.0000 - val_loss: 1.3038e-05 - val_accuracy: 1.0000\n",
      "Epoch 100/100\n",
      "92/92 [==============================] - 0s 3ms/step - loss: 8.9448e-07 - accuracy: 1.0000 - val_loss: 1.2603e-05 - val_accuracy: 1.0000\n"
     ]
    }
   ],
   "source": [
    "#fitting the model\n",
    "model_history=classifier.fit(x,y,validation_split=0.33,batch_size=10,epochs=100)"
   ]
  },
  {
   "cell_type": "code",
   "execution_count": 111,
   "metadata": {
    "scrolled": true
   },
   "outputs": [
    {
     "data": {
      "image/png": "[encoded data removed]",
      "text/plain": [
       "<Figure size 720x360 with 1 Axes>"
      ]
     },
     "metadata": {
      "needs_background": "light"
     },
     "output_type": "display_data"
    }
   ],
   "source": [
    "# summarize history for accuracy\n",
    "plt.figure(figsize=(10,5))\n",
    "plt.plot(model_history.history['accuracy'])\n",
    "plt.plot(model_history.history['val_accuracy'])\n",
    "plt.title('Model accuracy At Each Epoch')\n",
    "plt.ylabel('Accuracy')\n",
    "plt.xlabel('Epoch')\n",
    "plt.show()"
   ]
  },
  {
   "cell_type": "code",
   "execution_count": 112,
   "metadata": {},
   "outputs": [
    {
     "data": {
      "image/png": "[encoded data removed]",
      "text/plain": [
       "<Figure size 720x360 with 1 Axes>"
      ]
     },
     "metadata": {
      "needs_background": "light"
     },
     "output_type": "display_data"
    }
   ],
   "source": [
    "# summarize history for loss\n",
    "plt.figure(figsize=(10,5))\n",
    "plt.plot(model_history.history['loss'])\n",
    "plt.plot(model_history.history['val_loss'])\n",
    "plt.title('Model loss at Each Epoch')\n",
    "plt.ylabel('loss')\n",
    "plt.xlabel('epoch')\n",
    "plt.legend(['train', 'test'], loc='upper right')\n",
    "plt.show()"
   ]
  },
  {
   "cell_type": "code",
   "execution_count": 116,
   "metadata": {},
   "outputs": [],
   "source": [
    "from sklearn.metrics import confusion_matrix\n",
    "cm=confusion_matrix(y_test,y_)"
   ]
  },
  {
   "cell_type": "code",
   "execution_count": 118,
   "metadata": {},
   "outputs": [
    {
     "name": "stdout",
     "output_type": "stream",
     "text": [
      "AxesSubplot(0.125,0.808774;0.62x0.0712264)\n"
     ]
    },
    {
     "data": {
      "image/png": "[encoded data removed]",
      "text/plain": [
       "<Figure size 720x2160 with 2 Axes>"
      ]
     },
     "metadata": {
      "needs_background": "light"
     },
     "output_type": "display_data"
    }
   ],
   "source": [
    "plt.figure(figsize=(10,30))\n",
    "plt.subplot(911)\n",
    "plt.title('Confusin Matrix')\n",
    "print(sns.heatmap(cm,annot=True))"
   ]
  },
  {
   "cell_type": "code",
   "execution_count": 120,
   "metadata": {},
   "outputs": [
    {
     "name": "stdout",
     "output_type": "stream",
     "text": [
      "              precision    recall  f1-score   support\n",
      "\n",
      "           0       1.00      1.00      1.00        76\n",
      "           1       1.00      1.00      1.00        61\n",
      "\n",
      "    accuracy                           1.00       137\n",
      "   macro avg       1.00      1.00      1.00       137\n",
      "weighted avg       1.00      1.00      1.00       137\n",
      "\n"
     ]
    }
   ],
   "source": [
    "from sklearn.metrics import classification_report\n",
    "print(classification_report(y_test,y_))"
   ]
  },
  {
   "cell_type": "code",
   "execution_count": null,
   "metadata": {},
   "outputs": [],
   "source": []
  }
 ],
 "metadata": {
  "kernelspec": {
   "display_name": "Python 3",
   "language": "python",
   "name": "python3"
  },
  "language_info": {
   "codemirror_mode": {
    "name": "ipython",
    "version": 3
   },
   "file_extension": ".py",
   "mimetype": "text/x-python",
   "name": "python",
   "nbconvert_exporter": "python",
   "pygments_lexer": "ipython3",
   "version": "3.8.8"
  }
 },
 "nbformat": 4,
 "nbformat_minor": 4
}
